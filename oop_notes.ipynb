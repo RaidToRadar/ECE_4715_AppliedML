{
 "cells": [
  {
   "cell_type": "markdown",
   "metadata": {},
   "source": [
    "# Review Object Orientented Programming in Python\n",
    "A quick overview of OOP concepts and how to build and initialize a simple class\n",
    "1. Inheriteance\n",
    "2. Abstraction\n",
    "3. Encapsulation\n",
    "4. Polymorphism"
   ]
  },
  {
   "cell_type": "code",
   "execution_count": 12,
   "metadata": {},
   "outputs": [],
   "source": [
    "class Person:\n",
    "    # attributes : age, gender, name\n",
    "    \n",
    "    #constructor\n",
    "    def __init__(self, age, gender, name):\n",
    "        self.age = age\n",
    "        self.gender = gender\n",
    "        self.name = name\n",
    "        \n",
    "    def greet(self):\n",
    "        print(f\"Person Info: \\n\\n Age:{self.age} \\n Gender:{self.gender} \\n Name:{self.name}\")"
   ]
  },
  {
   "cell_type": "code",
   "execution_count": 13,
   "metadata": {},
   "outputs": [],
   "source": [
    "#type(Person)\n",
    "\n",
    "# Initailize a Person type\n",
    "person1 = Person(\n",
    "    age = 28,\n",
    "    gender = True,\n",
    "    name = \"Alice\"\n",
    ")"
   ]
  },
  {
   "cell_type": "code",
   "execution_count": 14,
   "metadata": {},
   "outputs": [
    {
     "name": "stdout",
     "output_type": "stream",
     "text": [
      "Person Info: \n",
      "\n",
      " Age:28 \n",
      " Gender:True \n",
      " Name:Alice\n"
     ]
    }
   ],
   "source": [
    "person1.greet()"
   ]
  }
 ],
 "metadata": {
  "kernelspec": {
   "display_name": "Python 3",
   "language": "python",
   "name": "python3"
  },
  "language_info": {
   "codemirror_mode": {
    "name": "ipython",
    "version": 3
   },
   "file_extension": ".py",
   "mimetype": "text/x-python",
   "name": "python",
   "nbconvert_exporter": "python",
   "pygments_lexer": "ipython3",
   "version": "3.10.12"
  },
  "orig_nbformat": 4
 },
 "nbformat": 4,
 "nbformat_minor": 2
}
